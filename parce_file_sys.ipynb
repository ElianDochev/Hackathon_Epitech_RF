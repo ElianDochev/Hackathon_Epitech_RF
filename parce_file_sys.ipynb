{
 "cells": [
  {
   "cell_type": "code",
   "execution_count": 17,
   "metadata": {},
   "outputs": [
    {
     "ename": "KeyboardInterrupt",
     "evalue": "",
     "output_type": "error",
     "traceback": [
      "\u001b[0;31m---------------------------------------------------------------------------\u001b[0m",
      "\u001b[0;31mKeyboardInterrupt\u001b[0m                         Traceback (most recent call last)",
      "\u001b[1;32m/home/eliyan/Hub/Third Year/Radio France API-GraphQL/Hackaton/test.ipynb Cell 1\u001b[0m line \u001b[0;36m2\n\u001b[1;32m     <a href='vscode-notebook-cell:/home/eliyan/Hub/Third%20Year/Radio%20France%20API-GraphQL/Hackaton/test.ipynb#W0sZmlsZQ%3D%3D?line=16'>17</a>\u001b[0m                                 f\u001b[39m.\u001b[39mwrite(text_file\u001b[39m.\u001b[39mread() \u001b[39m+\u001b[39m \u001b[39m\"\u001b[39m\u001b[39m\\n\u001b[39;00m\u001b[39m\\n\u001b[39;00m\u001b[39m\\n\u001b[39;00m\u001b[39m\"\u001b[39m)\n\u001b[1;32m     <a href='vscode-notebook-cell:/home/eliyan/Hub/Third%20Year/Radio%20France%20API-GraphQL/Hackaton/test.ipynb#W0sZmlsZQ%3D%3D?line=17'>18</a>\u001b[0m     \u001b[39mreturn\u001b[39;00m \u001b[39m\"\u001b[39m\u001b[39mExtraction complete.\u001b[39m\u001b[39m\"\u001b[39m\n\u001b[0;32m---> <a href='vscode-notebook-cell:/home/eliyan/Hub/Third%20Year/Radio%20France%20API-GraphQL/Hackaton/test.ipynb#W0sZmlsZQ%3D%3D?line=19'>20</a>\u001b[0m find_and_extract_manifest(\u001b[39m\"\u001b[39;49m\u001b[39mdata/transcripts/vocapia/\u001b[39;49m\u001b[39m\"\u001b[39;49m)\n",
      "\u001b[1;32m/home/eliyan/Hub/Third Year/Radio France API-GraphQL/Hackaton/test.ipynb Cell 1\u001b[0m line \u001b[0;36m1\n\u001b[1;32m     <a href='vscode-notebook-cell:/home/eliyan/Hub/Third%20Year/Radio%20France%20API-GraphQL/Hackaton/test.ipynb#W0sZmlsZQ%3D%3D?line=14'>15</a>\u001b[0m                         f\u001b[39m.\u001b[39mwrite(\u001b[39m\"\u001b[39m\u001b[39mTranscript.txt:\u001b[39m\u001b[39m\\n\u001b[39;00m\u001b[39m\"\u001b[39m)\n\u001b[1;32m     <a href='vscode-notebook-cell:/home/eliyan/Hub/Third%20Year/Radio%20France%20API-GraphQL/Hackaton/test.ipynb#W0sZmlsZQ%3D%3D?line=15'>16</a>\u001b[0m                         \u001b[39mwith\u001b[39;00m \u001b[39mopen\u001b[39m(os\u001b[39m.\u001b[39mpath\u001b[39m.\u001b[39mjoin(root, \u001b[39m\"\u001b[39m\u001b[39mtranscript.txt\u001b[39m\u001b[39m\"\u001b[39m)) \u001b[39mas\u001b[39;00m text_file:\n\u001b[0;32m---> <a href='vscode-notebook-cell:/home/eliyan/Hub/Third%20Year/Radio%20France%20API-GraphQL/Hackaton/test.ipynb#W0sZmlsZQ%3D%3D?line=16'>17</a>\u001b[0m                             f\u001b[39m.\u001b[39mwrite(text_file\u001b[39m.\u001b[39mread() \u001b[39m+\u001b[39m \u001b[39m\"\u001b[39m\u001b[39m\\n\u001b[39;00m\u001b[39m\\n\u001b[39;00m\u001b[39m\\n\u001b[39;00m\u001b[39m\"\u001b[39m)\n\u001b[1;32m     <a href='vscode-notebook-cell:/home/eliyan/Hub/Third%20Year/Radio%20France%20API-GraphQL/Hackaton/test.ipynb#W0sZmlsZQ%3D%3D?line=17'>18</a>\u001b[0m \u001b[39mreturn\u001b[39;00m \u001b[39m\"\u001b[39m\u001b[39mExtraction complete.\u001b[39m\u001b[39m\"\u001b[39m\n",
      "File \u001b[0;32m<frozen codecs>:319\u001b[0m, in \u001b[0;36mdecode\u001b[0;34m(self, input, final)\u001b[0m\n",
      "\u001b[0;31mKeyboardInterrupt\u001b[0m: "
     ]
    }
   ],
   "source": [
    "import os\n",
    "import json\n",
    "\n",
    "def find_and_extract_manifest(path):\n",
    "    with open(\"res.txt\", \"w\") as f:\n",
    "        for root, dirs, files in os.walk(path):\n",
    "            for file in files:\n",
    "                if file.endswith(\".json\"):\n",
    "                    json_path = os.path.join(root, file)\n",
    "                    with open(json_path) as json_file:\n",
    "                        data = json.load(json_file)\n",
    "                        if \"vocapia\" in data and \"textfile\" in data[\"vocapia\"]:\n",
    "                            f.write(json_path + \"\\n\")\n",
    "                            f.write(data[\"vocapia\"][\"textfile\"] + \"\\n\")\n",
    "                            f.write(\"Transcript.txt:\\n\")\n",
    "                            with open(os.path.join(root, \"transcript.txt\")) as text_file:\n",
    "                                f.write(text_file.read() + \"\\n\\n\\n\")\n",
    "    return \"Extraction complete.\"\n",
    "\n",
    "find_and_extract_manifest(\"data/transcripts/vocapia/\")"
   ]
  }
 ],
 "metadata": {
  "kernelspec": {
   "display_name": "Python 3",
   "language": "python",
   "name": "python3"
  },
  "language_info": {
   "codemirror_mode": {
    "name": "ipython",
    "version": 3
   },
   "file_extension": ".py",
   "mimetype": "text/x-python",
   "name": "python",
   "nbconvert_exporter": "python",
   "pygments_lexer": "ipython3",
   "version": "3.11.5"
  }
 },
 "nbformat": 4,
 "nbformat_minor": 2
}
