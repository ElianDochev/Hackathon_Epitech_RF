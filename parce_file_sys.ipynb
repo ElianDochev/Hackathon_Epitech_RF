{
 "cells": [
  {
   "cell_type": "code",
   "execution_count": null,
   "metadata": {},
   "outputs": [],
   "source": [
    "import os\n",
    "import json\n",
    "\n",
    "def find_and_extract_manifest(path):\n",
    "    with open(\"res.txt\", \"w\") as f:\n",
    "        for root, dirs, files in os.walk(path):\n",
    "            for file in files:\n",
    "                if file.endswith(\".json\"):\n",
    "                    json_path = os.path.join(root, file)\n",
    "                    with open(json_path) as json_file:\n",
    "                        data = json.load(json_file)\n",
    "                        if \"vocapia\" in data and \"textfile\" in data[\"vocapia\"]:\n",
    "                            f.write(json_path + \"\\n\")\n",
    "                            f.write(data[\"vocapia\"][\"textfile\"] + \"\\n\")\n",
    "                            f.write(\"Transcript.txt:\\n\")\n",
    "                            with open(os.path.join(root, \"transcript.txt\")) as text_file:\n",
    "                                f.write(text_file.read() + \"\\n\\n\\n\")\n",
    "    return \"Extraction complete.\"\n",
    "\n",
    "find_and_extract_manifest(\"data/transcripts/vocapia/\")"
   ]
  }
 ],
 "metadata": {
  "kernelspec": {
   "display_name": "Python 3",
   "language": "python",
   "name": "python3"
  },
  "language_info": {
   "codemirror_mode": {
    "name": "ipython",
    "version": 3
   },
   "file_extension": ".py",
   "mimetype": "text/x-python",
   "name": "python",
   "nbconvert_exporter": "python",
   "pygments_lexer": "ipython3",
   "version": "3.11.5"
  }
 },
 "nbformat": 4,
 "nbformat_minor": 2
}
